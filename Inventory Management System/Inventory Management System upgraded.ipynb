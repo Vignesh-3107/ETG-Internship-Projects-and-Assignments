{
 "cells": [
  {
   "cell_type": "markdown",
   "id": "73db62ff",
   "metadata": {},
   "source": [
    "#                        INVENTORY MANAGEMENT SYSTEM\n",
    "\n",
    "##                                  Elite Techno Groups Internship \n",
    "\n",
    "###                                                 Submitted By :  VIGNESH C"
   ]
  },
  {
   "cell_type": "markdown",
   "id": "5c05c81d",
   "metadata": {},
   "source": [
    "### Importing Required Libaries"
   ]
  },
  {
   "cell_type": "code",
   "execution_count": 1,
   "id": "3ecfbcf4",
   "metadata": {},
   "outputs": [],
   "source": [
    "import json\n",
    "import time\n",
    "import random"
   ]
  },
  {
   "cell_type": "code",
   "execution_count": 2,
   "id": "5b607afe",
   "metadata": {},
   "outputs": [],
   "source": [
    "Time=time.ctime()\n",
    "Time=list(Time.split(' '))\n",
    "Time.pop(2)\n",
    "DATE=Time[1]+\" \"+Time[2]+\" \"+Time[4]\n",
    "TIME=Time[3]\n",
    "BILL= random.randint(10000,20000)\n",
    "BILL_NO=round(BILL*7.156)\n",
    "sym=u\"\\u20B9\""
   ]
  },
  {
   "cell_type": "markdown",
   "id": "33c1faf7",
   "metadata": {},
   "source": [
    "### Opening Json file"
   ]
  },
  {
   "cell_type": "code",
   "execution_count": 3,
   "id": "1a25a6be",
   "metadata": {},
   "outputs": [],
   "source": [
    "file=open(\"Products_List.json\",\"r\")\n",
    "products=file.read()\n",
    "file.close()"
   ]
  },
  {
   "cell_type": "code",
   "execution_count": 4,
   "id": "781295e5",
   "metadata": {},
   "outputs": [],
   "source": [
    "listed=json.loads(products)"
   ]
  },
  {
   "cell_type": "markdown",
   "id": "ad42a5d9",
   "metadata": {},
   "source": [
    "### Adding new products to your Inventory"
   ]
  },
  {
   "cell_type": "code",
   "execution_count": 5,
   "id": "98e4f4c2",
   "metadata": {},
   "outputs": [
    {
     "name": "stdout",
     "output_type": "stream",
     "text": [
      " \t\t\t !!! NOTE:   THIS IS ONLY FOR  ADMIN !!! \n",
      "\n",
      " \t\t\t    1. ARE YOU READY TO ADD PRODUCTS  \n",
      " \t\t\t    2. BE CAREFUL WHILE FILLING THIS \n",
      "\t\t\t    3. ENTER 0 IF NOTHING TO ADD \n",
      " \n",
      "ENTER NO OF PRODUCT YOU WANT YOU ADD IN YOUR INVENTORY :  1\n",
      "\n",
      "Enter Product ID  : 71040\n",
      "Enter Product Name : Onion\n",
      "Enter MRP Of Product : 100\n",
      "Enter Category Of Product : Grocery\n",
      "Enter Quantity of Product  : 752\n",
      "Enter Discount for Product : 5.9\n",
      "\n",
      "\n",
      "\t\t\t   *****  Product Details Added  *****\n"
     ]
    }
   ],
   "source": [
    "print(\" \\t\\t\\t !!! NOTE:   THIS IS ONLY FOR  ADMIN !!! \\n\")\n",
    "print(\" \\t\\t\\t    1. ARE YOU READY TO ADD PRODUCTS  \")\n",
    "print(\" \\t\\t\\t    2. BE CAREFUL WHILE FILLING THIS \\n\\t\\t\\t    3. ENTER 0 IF NOTHING TO ADD \\n \")\n",
    "nos=int(input(\"ENTER NO OF PRODUCT YOU WANT YOU ADD IN YOUR INVENTORY :  \"))    \n",
    "print()\n",
    "NL={}\n",
    "if nos ==0:\n",
    "    pass\n",
    "else:\n",
    "    for j in range(nos):\n",
    "        key=str(input(\"Enter Product ID  : \"))\n",
    "        NL[\"Product_Name\"]=str(input(\"Enter Product Name : \"))\n",
    "        NL[\"MRP\"]=int(input(\"Enter MRP Of Product : \"))\n",
    "        NL[\"Category\"]=str(input(\"Enter Category Of Product : \"))\n",
    "        NL[\"Quantity\"]=int(input(\"Enter Quantity of Product  : \"))\n",
    "        NL[\"Discount\"]=float(input(\"Enter Discount for Product : \"))\n",
    "        print(\"\\n\")\n",
    "        if key not in listed.keys():\n",
    "            listed[key]=NL\n",
    "                \n",
    "        else:\n",
    "            print(\"\\n\\t\\t\\t WARNING !!! : PRODUCT ID ALREADY FOUND \\n \")\n",
    "    print(\"\\t\\t\\t   *****  Product Details Added  *****\")"
   ]
  },
  {
   "cell_type": "markdown",
   "id": "3852d4b1",
   "metadata": {},
   "source": [
    "\n",
    "### Deleting Existing Product from your Inventory"
   ]
  },
  {
   "cell_type": "code",
   "execution_count": 6,
   "id": "f705b0fa",
   "metadata": {},
   "outputs": [
    {
     "name": "stdout",
     "output_type": "stream",
     "text": [
      " \t\t\t !!! NOTE:   THIS IS ONLY FOR  ADMIN !!! \n",
      "\n",
      " \t\t\t    1. ARE YOU READY TO DELETE PRODUCTS  \n",
      " \t\t\t    2. BE CAREFUL WHILE FILLING THIS \n",
      "\t\t\t    3. ENTER 0 IF NOTHING TO DELETE \n",
      " \n",
      "\n",
      "ENTER NO OF PRODUCT YOU WANT YOU DELETE IN YOUR INVENTORY :  0\n",
      "\n"
     ]
    }
   ],
   "source": [
    "print(\" \\t\\t\\t !!! NOTE:   THIS IS ONLY FOR  ADMIN !!! \\n\")\n",
    "print(\" \\t\\t\\t    1. ARE YOU READY TO DELETE PRODUCTS  \")\n",
    "print(\" \\t\\t\\t    2. BE CAREFUL WHILE FILLING THIS \\n\\t\\t\\t    3. ENTER 0 IF NOTHING TO DELETE \\n \")\n",
    "print()\n",
    "nos=int(input(\"ENTER NO OF PRODUCT YOU WANT YOU DELETE IN YOUR INVENTORY :  \"))    \n",
    "print()\n",
    "if nos ==0:\n",
    "    pass\n",
    "else:\n",
    "    for i in range(nos):\n",
    "        keys=str(input(\"Enter Product ID : \" ))\n",
    "        if keys in listed.keys():\n",
    "            print(listed[keys])\n",
    "            del listed[keys]\n",
    "            print(\"\\t\\t\\t\\t\\t   *****  Product Details Deleted  *****\")\n",
    "        else:\n",
    "            print(\" \\n\\t\\t ERROR !!! : PRODUCT WAS NOT FOUND  \\n\\t\\t  PLEASE ENTER CORRECT PRODUCT ID \\n\")"
   ]
  },
  {
   "cell_type": "markdown",
   "id": "180095a1",
   "metadata": {},
   "source": [
    "### Changing the details in Inventory "
   ]
  },
  {
   "cell_type": "code",
   "execution_count": 7,
   "id": "8bb8a49f",
   "metadata": {},
   "outputs": [
    {
     "name": "stdout",
     "output_type": "stream",
     "text": [
      " \t\t\t !!! NOTE:   THIS IS ONLY FOR  ADMIN !!! \n",
      "\n",
      " \t\t\t    1. ARE YOU READY TO CHANGE PRODUCTS DETAILS \n",
      " \t\t\t    2. BE CAREFUL WHILE FILLING THIS \n",
      "\t\t\t    3. ENTER 0 IF NOTHING TO CHANGE \n",
      " \n",
      "\n",
      "ENTER PRODUCT ID : 0\n"
     ]
    }
   ],
   "source": [
    "print(\" \\t\\t\\t !!! NOTE:   THIS IS ONLY FOR  ADMIN !!! \\n\")\n",
    "print(\" \\t\\t\\t    1. ARE YOU READY TO CHANGE PRODUCTS DETAILS \")\n",
    "print(\" \\t\\t\\t    2. BE CAREFUL WHILE FILLING THIS \\n\\t\\t\\t    3. ENTER 0 IF NOTHING TO CHANGE \\n \")  \n",
    "print() \n",
    "t=len(listed)\n",
    "for i in range(t):\n",
    "    keys=str(input(\"ENTER PRODUCT ID : \" ))\n",
    "    if keys=='0':\n",
    "        break\n",
    "    else:\n",
    "        print(listed[keys])\n",
    "        print(\"\\n Values Here: \\n Product_Name \\nMRP \\nCategory \\nQuantity \\nDiscount \")\n",
    "        value_key=str(input(\"\\n Which values you want to change : \"))\n",
    "        print(\" This is current value : \",listed[keys][value_key])\n",
    "        value=str(input(\" \\n Enter New Value  : \"))\n",
    "        listed[keys][value_key]=value\n",
    "        print(listed[keys])    \n",
    "    print(\"\\t\\t\\t\\t\\t   *****  Product Details Changed  *****\")"
   ]
  },
  {
   "cell_type": "markdown",
   "id": "389c74c3",
   "metadata": {},
   "source": [
    "### Updating your Inventory "
   ]
  },
  {
   "cell_type": "code",
   "execution_count": 8,
   "id": "8946cab0",
   "metadata": {},
   "outputs": [],
   "source": [
    "js=json.dumps(listed)"
   ]
  },
  {
   "cell_type": "code",
   "execution_count": 9,
   "id": "d7ec5b4c",
   "metadata": {},
   "outputs": [
    {
     "name": "stdout",
     "output_type": "stream",
     "text": [
      "\t\t\t\t   *****  Inventory Updated  *****\n"
     ]
    }
   ],
   "source": [
    "refil=open(\"Products_List.json\",\"w\")\n",
    "refil.write(js)\n",
    "refil.close()\n",
    "print(\"\\t\\t\\t\\t   *****  Inventory Updated  *****\")"
   ]
  },
  {
   "cell_type": "markdown",
   "id": "fe39e981",
   "metadata": {},
   "source": [
    "### Displaying Products to Customers"
   ]
  },
  {
   "cell_type": "code",
   "execution_count": 10,
   "id": "5babf03a",
   "metadata": {},
   "outputs": [
    {
     "name": "stdout",
     "output_type": "stream",
     "text": [
      "\n",
      "Total Items Found :  40\n",
      "\n",
      "ID    -  Name     - MRP (₹) - Quantity (₹) - Discount (₹)\n",
      "\n",
      "71001 - Turmeric Powder - ₹25 - ₹250 - ₹1.56\n",
      "71002 - Pepper - ₹20 - ₹548 - ₹2.4\n",
      "71003 - Cumin - ₹30 - ₹650 - ₹3.1\n",
      "71004 - Cooking Oil - ₹150 - ₹350 - ₹2.5\n",
      "71005 - Cup - ₹75 - ₹40 - ₹1.02\n",
      "71006 - Talc - ₹65 - ₹50 - ₹1.2\n",
      "71007 - NoteBooks - ₹30 - ₹100 - ₹5.1\n",
      "71008 - Pen - ₹15 - ₹120 - ₹2.2\n",
      "71009 - Tea - ₹59 - ₹68 - ₹2.3\n",
      "71010 - Soap - ₹45 - ₹149 - ₹4.3\n",
      "71011 - Tooth Brush - ₹25 - ₹60 - ₹5.4\n",
      "71012 - Tooth Paste - ₹90 - ₹90 - ₹2.5\n",
      "71013 - Watch - ₹596 - ₹50 - ₹5.7\n",
      "71014 - Cap - ₹250 - ₹30 - ₹3.0\n",
      "71015 - Gel - ₹40 - ₹75 - ₹4.2\n",
      "71016 - Rice - ₹750 - ₹164 - ₹2.0\n",
      "71017 - Gram - ₹350 - ₹70 - ₹4.2\n",
      "71018 - Atta - ₹450 - ₹40 - ₹3.1\n",
      "71019 - Ghee - ₹250 - ₹69 - ₹3.1\n",
      "71020 - Lotion - ₹350 - ₹70 - ₹1.4\n",
      "71021 - Water - ₹20 - ₹750 - ₹4.0\n",
      "71022 - Juice - ₹35 - ₹50 - ₹5.1\n",
      "71023 - Shampoo - ₹42 - ₹70 - ₹2.5\n",
      "71024 - Soda - ₹25 - ₹59 - ₹3.2\n",
      "71025 - Salt - ₹20 - ₹73 - ₹4.0\n",
      "71026 - Hair Oil - ₹50 - ₹40 - ₹3.4\n",
      "71027 - Cream - ₹65 - ₹45 - ₹4.2\n",
      "71028 - Sugar - ₹45 - ₹82 - ₹2.6\n",
      "71029 - Jaggery - ₹100 - ₹55 - ₹3.9\n",
      "71030 - Red Chilli - ₹54 - ₹95 - ₹4.1\n",
      "71031 - Coffee - ₹58 - ₹72 - ₹2.4\n",
      "71032 - Markers - ₹27 - ₹52 - ₹1.2\n",
      "71033 - Glue - ₹25 - ₹45 - ₹1.6\n",
      "71034 - Chalk - ₹20 - ₹65 - ₹2.9\n",
      "71035 - Ink - ₹25 - ₹83 - ₹2.4\n",
      "71036 - Mushroom - ₹35 - ₹48 - ₹2.6\n",
      "71038 - Bread - ₹30 - ₹60 - ₹1.9\n",
      "71037 - Butter - ₹80 - ₹73 - ₹4.6\n",
      "71039 - Garlic - ₹150 - ₹748 - ₹3.9\n",
      "71040 - Onion - ₹100 - ₹752 - ₹5.9\n"
     ]
    }
   ],
   "source": [
    "names=[]\n",
    "mrp=[]\n",
    "discount=[]\n",
    "quan=[]\n",
    "pi=[]\n",
    "for i in listed:\n",
    "    pi.append(i)\n",
    "    names.append(listed[i][\"Product_Name\"])\n",
    "    mrp.append(listed[i][\"MRP\"])\n",
    "    discount.append(listed[i][\"Discount\"])\n",
    "    quan.append(listed[i][\"Quantity\"])\n",
    "lis=len(names)\n",
    "print(\"\\nTotal Items Found : \",lis)\n",
    "print (\"\\nID    -  Name     - MRP (\"+sym+\") - Quantity (\"+sym+\") - Discount (\"+sym+\")\\n\")\n",
    "for i in range(lis):\n",
    "    print(str(pi[i]),names[i],sym+str(mrp[i]),sym+str(quan[i]),sym+str(discount[i]),sep=' - ')"
   ]
  },
  {
   "cell_type": "markdown",
   "id": "6ce2591a",
   "metadata": {},
   "source": [
    "### Data from Customer's "
   ]
  },
  {
   "cell_type": "code",
   "execution_count": 11,
   "id": "3b6c9d80",
   "metadata": {},
   "outputs": [
    {
     "name": "stdout",
     "output_type": "stream",
     "text": [
      "Enter your Name : Nandha s\n",
      "Enter your Mobile No : 9629581753\n",
      "\n",
      " \t\t !!! NOTE:   TYPE  ' END ' FOR OVER  !!! \n",
      " \t\t Enter Items which you want with Quantity  \n",
      "\n",
      "Enter Product  : onion\n",
      "Enter Quantity : 2\n",
      "Enter Product  : ghee\n",
      "Enter Quantity : 3\n",
      "Enter Product  : soda\n",
      "Enter Quantity : 5\n",
      "Enter Product  : salt\n",
      "Enter Quantity : 9\n",
      "Enter Product  : sugar\n",
      "Enter Quantity : 5\n",
      "Enter Product  : water\n",
      "Enter Quantity : 2\n",
      "Enter Product  : END\n"
     ]
    }
   ],
   "source": [
    "prod=[]\n",
    "num=[]\n",
    "lon=len(names)\n",
    "NAME=str(input(\"Enter your Name : \"))\n",
    "MOBILE=str(input(\"Enter your Mobile No : \"))\n",
    "for e in range(1,2):\n",
    "    print()\n",
    "    print(\" \\t\\t !!! NOTE:   TYPE  ' END ' FOR OVER  !!! \")\n",
    "    print(\" \\t\\t Enter Items which you want with Quantity  \")\n",
    "    print()\n",
    "    for j in range(lon):\n",
    "        lst=str(input(\"Enter Product  : \"))\n",
    "        if lst!=\"END\":\n",
    "            prod.append(lst)\n",
    "            no=int(input(\"Enter Quantity : \"))\n",
    "            if no!=0:\n",
    "                num.append(no)\n",
    "        else:\n",
    "            break"
   ]
  },
  {
   "cell_type": "markdown",
   "id": "3ff5d8a7",
   "metadata": {},
   "source": [
    "### Working and Gathering"
   ]
  },
  {
   "cell_type": "code",
   "execution_count": 12,
   "id": "717a3206",
   "metadata": {},
   "outputs": [],
   "source": [
    "Id=[]\n",
    "Discount=[]\n",
    "MRP=[]\n",
    "Total=[]\n",
    "Category=[]\n",
    "Actual_Total=[]\n",
    "\n",
    "length=len(prod)\n",
    "for i in range(length):\n",
    "    S_NO=i+1\n",
    "    Items=prod[i]\n",
    "    Quantity=num[i]\n",
    "    for j in listed:\n",
    "        fin=listed[j][\"Product_Name\"]\n",
    "        if fin.lower() == Items.lower(): \n",
    "            Id.append(j)\n",
    "            Category.append(listed[j][\"Category\"])\n",
    "            MRP.append(listed[j][\"MRP\"])\n",
    "            Discount.append(listed[j][\"Discount\"])\n",
    "            Total.append(Quantity * (MRP[i]-Discount[i]))\n",
    "            Actual_Total.append(listed[j][\"MRP\"]*num[i])\n",
    "         "
   ]
  },
  {
   "cell_type": "code",
   "execution_count": 13,
   "id": "08082fef",
   "metadata": {},
   "outputs": [],
   "source": [
    "TP=0      #TOTAL PRICE\n",
    "TD=0      # TOTAL DISCOUNT ( BASED ON ONE QUANTITY  )\n",
    "TM=0      # TOTAL MRP \n",
    "TQ=0      # TOTAL QUANTITY\n",
    "TI=0      # TOTAL ITEMS\n",
    "TP=sum(Total)\n",
    "TD=sum(Discount)\n",
    "TM=sum(Actual_Total)\n",
    "TQ=sum(num)\n",
    "TI=len(prod)\n",
    "Save=TM-TP"
   ]
  },
  {
   "cell_type": "markdown",
   "id": "6b45ece0",
   "metadata": {},
   "source": [
    "### Changing details and Saving in Json"
   ]
  },
  {
   "cell_type": "code",
   "execution_count": 14,
   "id": "8aedbc02",
   "metadata": {},
   "outputs": [],
   "source": [
    "for i in range(length):\n",
    "    if prod[i].lower() == listed[Id[i]][\"Product_Name\"].lower():\n",
    "        l=int(listed[Id[i]][\"Quantity\"])-num[i]\n",
    "        listed[Id[i]][\"Quantity\"]=str(l)  "
   ]
  },
  {
   "cell_type": "code",
   "execution_count": 15,
   "id": "940bd85f",
   "metadata": {},
   "outputs": [],
   "source": [
    "json=json.dumps(listed)"
   ]
  },
  {
   "cell_type": "code",
   "execution_count": 16,
   "id": "00660855",
   "metadata": {},
   "outputs": [
    {
     "name": "stdout",
     "output_type": "stream",
     "text": [
      "\t\t\t\t\t   *****  FILE SAVED  *****\n"
     ]
    }
   ],
   "source": [
    "refil=open(\"Products_List.json\",\"w\")\n",
    "refil.write(json)\n",
    "refil.close()\n",
    "print(\"\\t\\t\\t\\t\\t   *****  FILE SAVED  *****\")"
   ]
  },
  {
   "cell_type": "markdown",
   "id": "ebd17c8b",
   "metadata": {},
   "source": [
    "### Generating Bill For Customers "
   ]
  },
  {
   "cell_type": "code",
   "execution_count": 17,
   "id": "e0a394be",
   "metadata": {},
   "outputs": [
    {
     "name": "stdout",
     "output_type": "stream",
     "text": [
      "ENTER USER NAME : VIKnesh\n",
      "ENTER USER ID : cv310V107\n",
      " Y for YES or N for NO \n",
      " Is First Customer of this Day : N\n"
     ]
    }
   ],
   "source": [
    "USER=str(input(\"ENTER USER NAME : \"))\n",
    "USER_ID=str(input(\"ENTER USER ID : \"))\n",
    "print(\" Y for YES or N for NO \")\n",
    "C=str(input(\" Is First Customer of this Day : \"))\n",
    "flag=0\n",
    "if C.upper()=='N':\n",
    "    flag=1\n",
    "elif C.upper()=='Y':\n",
    "    flag=0\n",
    "else:\n",
    "    pass"
   ]
  },
  {
   "cell_type": "code",
   "execution_count": 18,
   "id": "c58b6705",
   "metadata": {},
   "outputs": [
    {
     "name": "stdout",
     "output_type": "stream",
     "text": [
      "\t\t\t\t   HAWK STORES \n",
      " \t\t\t\t NEW DELHI ,INDIA \n",
      "\t\t\t\t  PH:0429 25786  \n",
      "\t\t\t\t   CASH BILL\n",
      "  ****************************************************************************************** \n",
      "        BILL NO : 79904  \t\t\t     USER NAME : VIKNESH\n",
      "  CUSTOMER NAME : NANDHA S\t\t\t      USER ID  : CV310V107\n",
      "      MOBILE NO : 9629581753  \t\t\t\t  DATE : Sep 6 2021\n",
      "\t\t\t\t\t\t\t TIME  : 17:29:19\n",
      "  ****************************************************************************************** \n",
      " \t\t\t\t PRODUCTS LIST\n",
      "_____________________________________________________________________________________________\n",
      "S.NO  Product ID   Items Name \t  Category \tQuantity  MRP( ₹)  Discount( ₹)   Total( ₹)\n",
      "_____________________________________________________________________________________________\n",
      " 1\t71040\t     ONION\t   Grocery\t   2\t   100\t     5.9\t   188.2\n",
      " 2\t71019\t     GHEE\t   Grocery\t   3\t   250\t     3.1\t   740.7\n",
      " 3\t71024\t     SODA\t   Drinks\t   5\t   25\t     3.2\t   109.0\n",
      " 4\t71025\t     SALT\t   Grocery\t   9\t   20\t     4.0\t   144.0\n",
      " 5\t71028\t     SUGAR\t   Grocery\t   5\t   45\t     2.6\t   212.0\n",
      " 6\t71021\t     WATER\t   Drinks\t   2\t   20\t     4.0\t   32.0\n",
      "_____________________________________________________________________________________________\n",
      "                                                \t\t  GRAND TOTAL : ₹ 1425.9\n",
      "\n",
      "_____________________________________________________________________________________________\n",
      "\n",
      "        TOTAL ITEMS    : 6  \t\t\t\t ACTUAL TOTAL MRP     : ₹ 1520\n",
      "        TOTAL QUANTITY : 26  \t\t\t\t TOTAL DISCOUNT PRICE : ₹ 94.1\n",
      "\n",
      "\t\t\t\t!!!  CONGRATS  !!!\n",
      " \t\t\t    YOU HAVE SAVED ₹ 94.1 RUPEES    \n",
      "_____________________________________________________________________________________________\n",
      " \t   ------------  GOODS ONCE SOLD CANNOT BE TAKEN BACK   -------------   \n",
      "  \t                    THANK YOU !   VISIT AGAIN !                        \n"
     ]
    }
   ],
   "source": [
    "print(\"\\t\\t\\t\\t   HAWK STORES \\n \\t\\t\\t\\t NEW DELHI ,INDIA \\n\\t\\t\\t\\t  PH:0429 25786  \")\n",
    "print(\"\\t\\t\\t\\t   CASH BILL\")\n",
    "print(\"  ****************************************************************************************** \")\n",
    "\n",
    "print(\"        BILL NO : \"+str(BILL_NO)+\"  \\t\\t\\t     USER NAME : \"+USER.upper())\n",
    "a=\"\\n        BILL NO : \"+str(BILL_NO)+\"  \\t\\t\\t                      USER NAME : \"+USER.upper()\n",
    "print(\"  CUSTOMER NAME : \"+NAME.upper()+\"\\t\\t\\t      USER ID  : \"+USER_ID.upper())\n",
    "b=\"\\n  CUSTOMER NAME : \"+NAME.upper()+\"\\t\\t\\t                        USER ID : \"+USER_ID.upper()\n",
    "print(\"      MOBILE NO : \"+MOBILE+\"  \\t\\t\\t\\t  DATE :\",DATE)\n",
    "c=\"\\n      MOBILE NO : \"+MOBILE+\"\\t\\t\\t\\t                 DATE : \"+DATE\n",
    "\n",
    "print(\"\\t\\t\\t\\t\\t\\t\\t TIME  :\",TIME)\n",
    "\n",
    "print(\"  ****************************************************************************************** \")\n",
    "print(\" \\t\\t\\t\\t PRODUCTS LIST\")\n",
    "print(\"_____________________________________________________________________________________________\")\n",
    "\n",
    "print(\"S.NO  Product ID   Items Name \\t  Category \\tQuantity  MRP\"+\"( \"+sym+\")\"+\"  Discount\"+\"( \"+sym+\")\"+\"   Total\"+\"( \"+sym+\")\")\n",
    "d=\"\\nS.NO  Product ID   Items Name \\tCategory\\tQuantity   MRP\"+\"     Discount\"+\"     Total \"\n",
    "\n",
    "print(\"_____________________________________________________________________________________________\")\n",
    "s=''\n",
    "for i in range (length):\n",
    "    S_No=str(i+1)\n",
    "    Items=str(prod[i])\n",
    "    Quantity=str(num[i]) \n",
    "    print(\" \"+S_No+\"\\t\"+Id[i]+\"\\t     \"+Items.upper()+\"\\t   \"+Category[i]+\"\\t   \"+str(Quantity)+\"\\t   \"+str(MRP[i])+\"\\t     \"+str(Discount[i])+\"\\t   \"+str(round(Total[i],2)))\n",
    "    s=s+(\"\\n \"+S_No+\"\\t   \"+Id[i]+\"\\t     \"+Items.upper()+\"\\t   \"+Category[i]+\"\\t     \"+str(Quantity)+\"\\t \\t  \"+str(MRP[i])+\"\\t     \"+str(Discount[i])+\"\\t   \"+str(round(Total[i],2)))\n",
    "\n",
    "print(\"_____________________________________________________________________________________________\")\n",
    "\n",
    "print(\"                                                \\t\\t  GRAND TOTAL : \"+sym+\" \"+str(round(TP,2)))\n",
    "e=\"\\n                                                \\t\\t  GRAND TOTAL :  \"+str(round(TP,2))\n",
    "\n",
    "print()\n",
    "\n",
    "print(\"_____________________________________________________________________________________________\")\n",
    "\n",
    "print()\n",
    "\n",
    "print(\"        TOTAL ITEMS    : \"+str(TI)+\"  \\t\\t\\t\\t ACTUAL TOTAL MRP     : \"+sym+\" \"+str(round(TM,2)))\n",
    "f=\"        TOTAL ITEMS    : \"+str(TI)+\"  \\t\\t\\t\\t\\t\\t ACTUAL TOTAL MRP     : \"+str(round(TM,2))\n",
    "\n",
    "print(\"        TOTAL QUANTITY : \"+str(TQ)+\"  \\t\\t\\t\\t TOTAL DISCOUNT PRICE : \"+sym+\" \"+str(round(Save,2)))\n",
    "g=\"\\n        TOTAL QUANTITY : \"+str(TQ)+\"  \\t\\t\\t\\t\\t\\t TOTAL DISCOUNT PRICE : \"+str(round(Save,2))\n",
    "\n",
    "print()\n",
    "\n",
    "print(\"\\t\\t\\t\\t!!!  CONGRATS  !!!\")\n",
    "print(\" \\t\\t\\t    YOU HAVE SAVED \"+sym+\" \"+str(round(Save,2))+\" RUPEES    \")\n",
    "h=\"\\n \\t\\t\\t\\t\\t\\t      YOU HAVE SAVED \"+str(round(Save,2))+\" RUPEES    \"\n",
    "\n",
    "print(\"_____________________________________________________________________________________________\")\n",
    "print(\" \\t   ------------  GOODS ONCE SOLD CANNOT BE TAKEN BACK   -------------   \")\n",
    "print(\"  \\t                    THANK YOU !   VISIT AGAIN !                        \")"
   ]
  },
  {
   "cell_type": "code",
   "execution_count": 19,
   "id": "67d3c7c8",
   "metadata": {},
   "outputs": [
    {
     "name": "stdout",
     "output_type": "stream",
     "text": [
      "\t\t\t\t\t *****  BILL GENERATED  *****\n"
     ]
    }
   ],
   "source": [
    "print(\"\\t\\t\\t\\t\\t *****  BILL GENERATED  *****\")"
   ]
  },
  {
   "cell_type": "code",
   "execution_count": 20,
   "id": "881d812e",
   "metadata": {},
   "outputs": [
    {
     "name": "stdout",
     "output_type": "stream",
     "text": [
      " \n",
      "            \t\t\t\t FILE NAME : bill.txt  \n",
      "    \t\t\t\t     ****** Bill was saved ******       \n"
     ]
    }
   ],
   "source": [
    "fd=open(\"bill.txt\",'w')\n",
    "fd.write(\"\\n\\t\\t\\t\\t\\t\\t\\t     HAWK STORES \\n\\t\\t\\t\\t\\t\\t       NEW DELHI ,INDIA \\n\\t\\t\\t\\t\\t\\t  \\t\\t PH:0429 25786  \")\n",
    "fd.write(\"\\n\\t\\t\\t\\t\\t\\t\\t \\t  CASH BILL\")\n",
    "fd.write(\"\\n  ****************************************************************************************** \\n\")\n",
    "fd.write(a+'\\n')\n",
    "fd.write(b+'\\n')\n",
    "fd.write(c+'\\n')\n",
    "fd.write(\"\\n\\t\\t\\t\\t\\t\\t\\t\\t\\t\\t\\t                  TIME : \"+TIME)\n",
    "fd.write(\"\\n  ****************************************************************************************** \")\n",
    "fd.write(\"\\n \\t\\t\\t\\t\\t\\t          PRODUCTS LIST\")\n",
    "fd.write(\"\\n_____________________________________________________________________________________________\")\n",
    "fd.write(d)\n",
    "fd.write(\"\\n_____________________________________________________________________________________________\")\n",
    "fd.write(s)\n",
    "fd.write(\"\\n\")\n",
    "fd.write(\"\\n_____________________________________________________________________________________________\")\n",
    "fd.write(e)\n",
    "fd.write('\\n')\n",
    "fd.write(\"\\n_____________________________________________________________________________________________\")\n",
    "fd.write('\\n')\n",
    "fd.write(f+'\\n')\n",
    "fd.write(g)\n",
    "fd.write('\\n')\n",
    "fd.write(\"\\n\\t\\t\\t\\t\\t\\t\\t\\t!!!  CONGRATS  !!!\")\n",
    "fd.write('\\n'+h)\n",
    "fd.write(\"\\n_____________________________________________________________________________________________\")\n",
    "fd.write(\"\\n \\t\\t   ------------  GOODS ONCE SOLD CANNOT BE TAKEN BACK   -------------   \")\n",
    "fd.write(\"\\n  \\t\\t                    THANK YOU !   VISIT AGAIN !                        \")\n",
    "fd.close()\n",
    "print(\" \\n            \\t\\t\\t\\t FILE NAME : bill.txt  \\n    \\t\\t\\t\\t     ****** Bill was saved ******       \")"
   ]
  },
  {
   "cell_type": "markdown",
   "id": "e6523fe9",
   "metadata": {},
   "source": [
    "### Generating Purchase History and saving it "
   ]
  },
  {
   "cell_type": "code",
   "execution_count": 21,
   "id": "7a0e77fd",
   "metadata": {},
   "outputs": [],
   "source": [
    "import json\n",
    "DB={}       # Details of Bill ( customer name , mobile , time , date ,user name )\n",
    "PQ={}       # List of Products with Quantity , MRP , Discount ,Total /Product\n",
    "TA={}       # Grant total and save\n",
    "BN={}       #It contains all details KEY Of DB,PQ,TA\n",
    "AD={}       # value of PQ\n",
    "if flag==1:\n",
    "    sell=open(\"Purchase_History.json\",\"r\")\n",
    "    history=sell.read()\n",
    "    sell.close()\n",
    "    JS=json.loads(history)\n",
    "else:\n",
    "    JS={}"
   ]
  },
  {
   "cell_type": "code",
   "execution_count": 22,
   "id": "c5a62c63",
   "metadata": {},
   "outputs": [
    {
     "data": {
      "text/plain": [
       "1"
      ]
     },
     "execution_count": 22,
     "metadata": {},
     "output_type": "execute_result"
    }
   ],
   "source": [
    "flag"
   ]
  },
  {
   "cell_type": "markdown",
   "id": "1e84ce80",
   "metadata": {},
   "source": [
    "#### Generating Bill Details"
   ]
  },
  {
   "cell_type": "code",
   "execution_count": 23,
   "id": "438e3d63",
   "metadata": {},
   "outputs": [],
   "source": [
    "DB[\"Customer Name\"]=NAME.upper()\n",
    "DB[\"Mobile No\"]=MOBILE\n",
    "DB[\"User\"]=USER.upper()\n",
    "DB[\"User ID\"]=USER_ID.upper()\n",
    "DB[\"Date\"]=DATE\n",
    "DB[\"Time\"]=TIME"
   ]
  },
  {
   "cell_type": "markdown",
   "id": "6c332806",
   "metadata": {},
   "source": [
    "#### Generating Products List  which Purchased by Customers"
   ]
  },
  {
   "cell_type": "code",
   "execution_count": 24,
   "id": "0aca5620",
   "metadata": {},
   "outputs": [],
   "source": [
    "for i in range(length):\n",
    "    AD[\"Quantity\"]=num[i]\n",
    "    AD[\"MRP\"]=MRP[i]\n",
    "    AD[\"Discount\"]=Discount[i]\n",
    "    AD[\"Total Amount\"]=round(Total[i],2)\n",
    "    PQ[prod[i].upper()]=AD"
   ]
  },
  {
   "cell_type": "markdown",
   "id": "bd2e9335",
   "metadata": {},
   "source": [
    "#### Generating Bill Amount"
   ]
  },
  {
   "cell_type": "code",
   "execution_count": 25,
   "id": "ec0fe560",
   "metadata": {},
   "outputs": [],
   "source": [
    "TA[\"Total Price\"]=round(TP,2)\n",
    "TA[\"Saved\"]=round(Save,2)"
   ]
  },
  {
   "cell_type": "markdown",
   "id": "b7eb499f",
   "metadata": {},
   "source": [
    "#### Generating History and Saving"
   ]
  },
  {
   "cell_type": "code",
   "execution_count": 26,
   "id": "3b4808f8",
   "metadata": {},
   "outputs": [],
   "source": [
    "BN[\"Bill Details\"]=DB\n",
    "BN[\"Products List\"]=PQ\n",
    "BN[\"Bill Amount\"]=TA\n",
    "JS[BILL_NO]=BN"
   ]
  },
  {
   "cell_type": "code",
   "execution_count": 27,
   "id": "61ad87bc",
   "metadata": {},
   "outputs": [],
   "source": [
    "j=json.dumps(JS)"
   ]
  },
  {
   "cell_type": "code",
   "execution_count": 28,
   "id": "4f9d77c7",
   "metadata": {},
   "outputs": [
    {
     "name": "stdout",
     "output_type": "stream",
     "text": [
      "\t\t\t\t\t   *****  FILE SAVED  *****\n"
     ]
    }
   ],
   "source": [
    "Bill=open(\"Purchase_History.json\",\"w\")\n",
    "Bill.write(j)\n",
    "Bill.close()\n",
    "\n",
    "print(\"\\t\\t\\t\\t\\t   *****  FILE SAVED  *****\")"
   ]
  },
  {
   "cell_type": "markdown",
   "id": "2a4cbe13",
   "metadata": {},
   "source": [
    "#  -------------------------------------------------  END  --------------------------------------------------"
   ]
  }
 ],
 "metadata": {
  "kernelspec": {
   "display_name": "Python 3",
   "language": "python",
   "name": "python3"
  },
  "language_info": {
   "codemirror_mode": {
    "name": "ipython",
    "version": 3
   },
   "file_extension": ".py",
   "mimetype": "text/x-python",
   "name": "python",
   "nbconvert_exporter": "python",
   "pygments_lexer": "ipython3",
   "version": "3.8.8"
  }
 },
 "nbformat": 4,
 "nbformat_minor": 5
}
