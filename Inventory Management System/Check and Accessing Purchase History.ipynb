{
 "cells": [
  {
   "cell_type": "markdown",
   "id": "17e7a06a",
   "metadata": {},
   "source": [
    "# CHECKING AND ACCESSING PURCHASE HISTORY\n",
    "\n",
    "## Elite Techno Groups Internship\n",
    "\n",
    "### Submitted By : VIGNESH C\n"
   ]
  },
  {
   "cell_type": "markdown",
   "id": "ef785d02",
   "metadata": {},
   "source": [
    "### Importing Libaries"
   ]
  },
  {
   "cell_type": "code",
   "execution_count": 1,
   "id": "68a89287",
   "metadata": {},
   "outputs": [],
   "source": [
    "import json\n",
    "sym=u\"\\u20B9\""
   ]
  },
  {
   "cell_type": "code",
   "execution_count": 2,
   "id": "62263fec",
   "metadata": {},
   "outputs": [],
   "source": [
    "file=open(\"Purchase_History.json\",\"r\")\n",
    "data=file.read()\n",
    "file.close()"
   ]
  },
  {
   "cell_type": "code",
   "execution_count": 3,
   "id": "62b1c1de",
   "metadata": {},
   "outputs": [],
   "source": [
    "listed=json.loads(data)"
   ]
  },
  {
   "cell_type": "markdown",
   "id": "be466380",
   "metadata": {},
   "source": [
    "### Gathering Checking Bill is Found or Not"
   ]
  },
  {
   "cell_type": "code",
   "execution_count": 4,
   "id": "0a7a02fb",
   "metadata": {},
   "outputs": [
    {
     "name": "stdout",
     "output_type": "stream",
     "text": [
      " ENTER BILL NO : 79904\n",
      "Say  Yes(Y) / No(N) \n",
      "Do you want See and  Print a Bill ?  y\n"
     ]
    }
   ],
   "source": [
    "     # I TAKING BILL NO :  79904\n",
    "\n",
    "bill=str(input(\" ENTER BILL NO : \"))\n",
    "if bill not in listed.keys():\n",
    "    print(\" \\t\\t****** BILL NUMBER NOT FOUND  ******\")\n",
    "    print(\" \\t\\t\\t THANK YOU FOR USING ME , HAVE A  GOOD DAY \")\n",
    "else:\n",
    "    get=str(input(\"Say  Yes(Y) / No(N) \\nDo you want See and  Print a Bill ?  \"))"
   ]
  },
  {
   "cell_type": "markdown",
   "id": "5faa107d",
   "metadata": {},
   "source": [
    "###  Generating Bill Details"
   ]
  },
  {
   "cell_type": "code",
   "execution_count": 5,
   "id": "fb689fec",
   "metadata": {},
   "outputs": [
    {
     "name": "stdout",
     "output_type": "stream",
     "text": [
      " BILL NO :  79904\n",
      "\n",
      "\n",
      " \t\t *****   BILL DETAILS   *****\n",
      "          Customer Name :  NANDHA S\n",
      "          Mobile Number :  9629581753\n",
      "       Bill System User :  VIKNESH\n",
      "                User ID :  CV310V107\n",
      "                   Date :  Sep 6 2021\n",
      "                   Time :  17:29:19\n",
      "\n",
      " \t\t *****   PRODUCT LIST    ***** \n",
      "\n",
      " Products Bought By Customer :\n",
      "\n",
      "           Product Name :  ONION\n",
      "    Quantity of Product :  2\n",
      "         MRP of Product :  ₹ 20\n",
      "   Discount for Product :  ₹ 4.0\n",
      "Total Amount of Product :  ₹ 32.0\n",
      "\n",
      " \t\t*********************************** \n",
      "\n",
      "           Product Name :  GHEE\n",
      "    Quantity of Product :  2\n",
      "         MRP of Product :  ₹ 20\n",
      "   Discount for Product :  ₹ 4.0\n",
      "Total Amount of Product :  ₹ 32.0\n",
      "\n",
      " \t\t*********************************** \n",
      "\n",
      "           Product Name :  SODA\n",
      "    Quantity of Product :  2\n",
      "         MRP of Product :  ₹ 20\n",
      "   Discount for Product :  ₹ 4.0\n",
      "Total Amount of Product :  ₹ 32.0\n",
      "\n",
      " \t\t*********************************** \n",
      "\n",
      "           Product Name :  SALT\n",
      "    Quantity of Product :  2\n",
      "         MRP of Product :  ₹ 20\n",
      "   Discount for Product :  ₹ 4.0\n",
      "Total Amount of Product :  ₹ 32.0\n",
      "\n",
      " \t\t*********************************** \n",
      "\n",
      "           Product Name :  SUGAR\n",
      "    Quantity of Product :  2\n",
      "         MRP of Product :  ₹ 20\n",
      "   Discount for Product :  ₹ 4.0\n",
      "Total Amount of Product :  ₹ 32.0\n",
      "\n",
      " \t\t*********************************** \n",
      "\n",
      "           Product Name :  WATER\n",
      "    Quantity of Product :  2\n",
      "         MRP of Product :  ₹ 20\n",
      "   Discount for Product :  ₹ 4.0\n",
      "Total Amount of Product :  ₹ 32.0\n",
      "\n",
      " \t\t*********************************** \n",
      " \t\t *****   BILL PAID AMOUNT   *****\n",
      "            Total Price :  ₹ 1425.9\n",
      "            Saved Price :  ₹ 94.1\n",
      "\n",
      " \t\t\t THANK YOU FOR USING ME , HAVE A  GOOD DAY \n"
     ]
    }
   ],
   "source": [
    "QUAN=[]\n",
    "MRP=[]\n",
    "DIS=[]\n",
    "TA=[]\n",
    "if get.upper()=='YES' or 'Y':\n",
    "    print(\" BILL NO : \",bill)\n",
    "    print()\n",
    "    print(\"\\n \\t\\t *****   BILL DETAILS   *****\")\n",
    "    print(\"          Customer Name : \",listed[bill]['Bill Details']['Customer Name'])\n",
    "    print(\"          Mobile Number : \",listed[bill]['Bill Details']['Mobile No'])\n",
    "    print(\"       Bill System User : \",listed[bill]['Bill Details']['User'])\n",
    "    print(\"                User ID : \",listed[bill]['Bill Details']['User ID'])\n",
    "    print(\"                   Date : \",listed[bill]['Bill Details']['Date'])\n",
    "    print(\"                   Time : \",listed[bill]['Bill Details']['Time'])\n",
    "    print()\n",
    "    print(\" \\t\\t *****   PRODUCT LIST    ***** \\n\")\n",
    "    PN=[]\n",
    "    for i in listed[bill]['Products List']:\n",
    "        PN.append(i)\n",
    "    print(\" Products Bought By Customer :\")\n",
    "    for i in PN:\n",
    "        print()\n",
    "        print(\"           Product Name : \",i)\n",
    "        print(\"    Quantity of Product : \",listed[bill]['Products List'][i]['Quantity'])\n",
    "        QUAN.append(listed[bill]['Products List'][i]['Quantity'])\n",
    "        print(\"         MRP of Product : \",sym,listed[bill]['Products List'][i]['MRP'])\n",
    "        MRP.append(('Rs '+str(listed[bill]['Products List'][i]['MRP'])))\n",
    "        print(\"   Discount for Product : \",sym,listed[bill]['Products List'][i]['Discount'])\n",
    "        DIS.append(('Rs '+str(listed[bill]['Products List'][i]['Discount'])))\n",
    "        print(\"Total Amount of Product : \",sym,listed[bill]['Products List'][i]['Total Amount'])\n",
    "        TA.append(('Rs '+str(listed[bill]['Products List'][i]['Total Amount'])))\n",
    "        print(\"\\n \\t\\t*********************************** \")\n",
    "        \n",
    "    \n",
    "    print(\" \\t\\t *****   BILL PAID AMOUNT   *****\") \n",
    "    print(\"            Total Price : \",sym,listed[bill]['Bill Amount']['Total Price'])\n",
    "    print(\"            Saved Price : \",sym,listed[bill]['Bill Amount']['Saved'])\n",
    "    print(\"\\n \\t\\t\\t THANK YOU FOR USING ME , HAVE A  GOOD DAY \")\n",
    "    \n",
    "else:\n",
    "    print(\" \\t\\t\\t THANK YOU FOR USING ME , HAVE A  GOOD DAY \")"
   ]
  },
  {
   "cell_type": "markdown",
   "id": "559f8665",
   "metadata": {},
   "source": [
    "### Saving in file generating it"
   ]
  },
  {
   "cell_type": "code",
   "execution_count": 6,
   "id": "ae7d7d7b",
   "metadata": {},
   "outputs": [
    {
     "name": "stdout",
     "output_type": "stream",
     "text": [
      " \t\t\t\t          *****  FILE SAVED  ***** \n"
     ]
    }
   ],
   "source": [
    "a=listed[bill]['Bill Details']['Customer Name']\n",
    "b=listed[bill]['Bill Details']['Mobile No']\n",
    "c=listed[bill]['Bill Details']['User']\n",
    "d=listed[bill]['Bill Details']['User ID']\n",
    "e=listed[bill]['Bill Details']['Date']\n",
    "f=listed[bill]['Bill Details']['Time']\n",
    "g='Rs '+str(listed[bill]['Bill Amount']['Total Price'])\n",
    "h='Rs '+str(listed[bill]['Bill Amount']['Saved'])\n",
    "\n",
    "\n",
    "s=open(\"Checked Bill.txt\",'w')\n",
    "s.write(\" \\t\\t   BILL NO : \"+bill)\n",
    "s.write(\"\\n\")\n",
    "s.write(\"\\n \\t\\t *****   BILL DETAILS   *****\")\n",
    "s.write(\"\\n          Customer Name : \"+a)\n",
    "s.write(\"\\n          Mobile Number : \"+b)\n",
    "s.write(\"\\n       Bill System User : \"+c)\n",
    "s.write(\"\\n                User ID : \"+d)\n",
    "s.write(\"\\n                   Date : \"+e)\n",
    "s.write(\"\\n                   Time : \"+f)\n",
    "\n",
    "s.write(\"\\n \\t\\t *****   PRODUCT LIST    *****\")\n",
    "s.write(\"\\n Products Bought By Customer :\")\n",
    "length=len(PN)\n",
    "for i in range(length):\n",
    "    s.write('\\n')\n",
    "    s.write(\"\\n           Product Name : \"+PN[i])\n",
    "    s.write(\"\\n    Quantity of Product : \"+str(QUAN[i]))\n",
    "    s.write(\"\\n         MRP of Product : \"+str(MRP[i]))\n",
    "    s.write(\"\\n   Discount for Product : \"+str(DIS[i]))\n",
    "    s.write(\"\\nTotal Amount of Product : \"+str(TA[i]))\n",
    "    s.write(\"\\n \\t\\t*********************************** \")\n",
    "    \n",
    "s.write(\"\\n \\t\\t *****   BILL PAID AMOUNT   *****\") \n",
    "s.write(\"\\n            Total Price : \"+g)\n",
    "s.write(\"\\n            Saved Price : \"+h)\n",
    "s.write(\"\\n \\t\\t THANK YOU FOR USING ME , HAVE A  GOOD DAY \")\n",
    "s.close()\n",
    "print(\" \\t\\t\\t\\t          *****  FILE SAVED  ***** \")"
   ]
  },
  {
   "cell_type": "markdown",
   "id": "ba3adda3",
   "metadata": {},
   "source": [
    "## --------------------------------------------------  END ----------------------------------------------------------"
   ]
  }
 ],
 "metadata": {
  "kernelspec": {
   "display_name": "Python 3",
   "language": "python",
   "name": "python3"
  },
  "language_info": {
   "codemirror_mode": {
    "name": "ipython",
    "version": 3
   },
   "file_extension": ".py",
   "mimetype": "text/x-python",
   "name": "python",
   "nbconvert_exporter": "python",
   "pygments_lexer": "ipython3",
   "version": "3.8.8"
  }
 },
 "nbformat": 4,
 "nbformat_minor": 5
}
