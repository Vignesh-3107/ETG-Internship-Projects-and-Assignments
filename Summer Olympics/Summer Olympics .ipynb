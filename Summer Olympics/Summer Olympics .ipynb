{
 "cells": [
  {
   "cell_type": "markdown",
   "id": "a8bdcac1",
   "metadata": {},
   "source": [
    "# Summer Olympics Data Analysis Assignment\n",
    "\n",
    "## Elite Techno Group Python AI/ML Internship\n",
    "\n",
    "## Submitted by - VIGNESH C "
   ]
  },
  {
   "cell_type": "code",
   "execution_count": 1,
   "id": "fafcde99",
   "metadata": {},
   "outputs": [],
   "source": [
    "import pandas as pd\n",
    "import matplotlib.pyplot as plt"
   ]
  },
  {
   "cell_type": "code",
   "execution_count": 2,
   "id": "e7d4d92c",
   "metadata": {},
   "outputs": [],
   "source": [
    "df=pd.read_csv(\"Summer.csv\")"
   ]
  },
  {
   "cell_type": "code",
   "execution_count": 3,
   "id": "15a3eeae",
   "metadata": {},
   "outputs": [
    {
     "data": {
      "text/html": [
       "<div>\n",
       "<style scoped>\n",
       "    .dataframe tbody tr th:only-of-type {\n",
       "        vertical-align: middle;\n",
       "    }\n",
       "\n",
       "    .dataframe tbody tr th {\n",
       "        vertical-align: top;\n",
       "    }\n",
       "\n",
       "    .dataframe thead th {\n",
       "        text-align: right;\n",
       "    }\n",
       "</style>\n",
       "<table border=\"1\" class=\"dataframe\">\n",
       "  <thead>\n",
       "    <tr style=\"text-align: right;\">\n",
       "      <th></th>\n",
       "      <th>Year</th>\n",
       "      <th>City</th>\n",
       "      <th>Sport</th>\n",
       "      <th>Discipline</th>\n",
       "      <th>Athlete</th>\n",
       "      <th>Country</th>\n",
       "      <th>Gender</th>\n",
       "      <th>Event</th>\n",
       "      <th>Medal</th>\n",
       "    </tr>\n",
       "  </thead>\n",
       "  <tbody>\n",
       "    <tr>\n",
       "      <th>0</th>\n",
       "      <td>1896</td>\n",
       "      <td>Athens</td>\n",
       "      <td>Aquatics</td>\n",
       "      <td>Swimming</td>\n",
       "      <td>HAJOS, Alfred</td>\n",
       "      <td>HUN</td>\n",
       "      <td>Men</td>\n",
       "      <td>100M Freestyle</td>\n",
       "      <td>Gold</td>\n",
       "    </tr>\n",
       "    <tr>\n",
       "      <th>1</th>\n",
       "      <td>1896</td>\n",
       "      <td>Athens</td>\n",
       "      <td>Aquatics</td>\n",
       "      <td>Swimming</td>\n",
       "      <td>HERSCHMANN, Otto</td>\n",
       "      <td>AUT</td>\n",
       "      <td>Men</td>\n",
       "      <td>100M Freestyle</td>\n",
       "      <td>Silver</td>\n",
       "    </tr>\n",
       "    <tr>\n",
       "      <th>2</th>\n",
       "      <td>1896</td>\n",
       "      <td>Athens</td>\n",
       "      <td>Aquatics</td>\n",
       "      <td>Swimming</td>\n",
       "      <td>DRIVAS, Dimitrios</td>\n",
       "      <td>GRE</td>\n",
       "      <td>Men</td>\n",
       "      <td>100M Freestyle For Sailors</td>\n",
       "      <td>Bronze</td>\n",
       "    </tr>\n",
       "    <tr>\n",
       "      <th>3</th>\n",
       "      <td>1896</td>\n",
       "      <td>Athens</td>\n",
       "      <td>Aquatics</td>\n",
       "      <td>Swimming</td>\n",
       "      <td>MALOKINIS, Ioannis</td>\n",
       "      <td>GRE</td>\n",
       "      <td>Men</td>\n",
       "      <td>100M Freestyle For Sailors</td>\n",
       "      <td>Gold</td>\n",
       "    </tr>\n",
       "    <tr>\n",
       "      <th>4</th>\n",
       "      <td>1896</td>\n",
       "      <td>Athens</td>\n",
       "      <td>Aquatics</td>\n",
       "      <td>Swimming</td>\n",
       "      <td>CHASAPIS, Spiridon</td>\n",
       "      <td>GRE</td>\n",
       "      <td>Men</td>\n",
       "      <td>100M Freestyle For Sailors</td>\n",
       "      <td>Silver</td>\n",
       "    </tr>\n",
       "  </tbody>\n",
       "</table>\n",
       "</div>"
      ],
      "text/plain": [
       "   Year    City     Sport Discipline             Athlete Country Gender  \\\n",
       "0  1896  Athens  Aquatics   Swimming       HAJOS, Alfred     HUN    Men   \n",
       "1  1896  Athens  Aquatics   Swimming    HERSCHMANN, Otto     AUT    Men   \n",
       "2  1896  Athens  Aquatics   Swimming   DRIVAS, Dimitrios     GRE    Men   \n",
       "3  1896  Athens  Aquatics   Swimming  MALOKINIS, Ioannis     GRE    Men   \n",
       "4  1896  Athens  Aquatics   Swimming  CHASAPIS, Spiridon     GRE    Men   \n",
       "\n",
       "                        Event   Medal  \n",
       "0              100M Freestyle    Gold  \n",
       "1              100M Freestyle  Silver  \n",
       "2  100M Freestyle For Sailors  Bronze  \n",
       "3  100M Freestyle For Sailors    Gold  \n",
       "4  100M Freestyle For Sailors  Silver  "
      ]
     },
     "execution_count": 3,
     "metadata": {},
     "output_type": "execute_result"
    }
   ],
   "source": [
    "df.head()"
   ]
  },
  {
   "cell_type": "code",
   "execution_count": 4,
   "id": "c3c2767d",
   "metadata": {},
   "outputs": [
    {
     "data": {
      "text/plain": [
       "Year          0\n",
       "City          0\n",
       "Sport         0\n",
       "Discipline    0\n",
       "Athlete       0\n",
       "Country       4\n",
       "Gender        0\n",
       "Event         0\n",
       "Medal         0\n",
       "dtype: int64"
      ]
     },
     "execution_count": 4,
     "metadata": {},
     "output_type": "execute_result"
    }
   ],
   "source": [
    "df.isnull().sum()"
   ]
  },
  {
   "cell_type": "markdown",
   "id": "e96b6664",
   "metadata": {},
   "source": [
    "### 1. In how many cities Summer Olympics is held so far?"
   ]
  },
  {
   "cell_type": "code",
   "execution_count": 5,
   "id": "1a79cde4",
   "metadata": {},
   "outputs": [
    {
     "name": "stdout",
     "output_type": "stream",
     "text": [
      "There are 22 Cites Summer Olympics are held\n",
      "\n",
      "List of Cities are :  \n",
      "\n",
      "Athens\n",
      "Paris\n",
      "St Louis\n",
      "London\n",
      "Stockholm\n",
      "Antwerp\n",
      "Amsterdam\n",
      "Los Angeles\n",
      "Berlin\n",
      "Helsinki\n",
      "Melbourne / Stockholm\n",
      "Rome\n",
      "Tokyo\n",
      "Mexico\n",
      "Munich\n",
      "Montreal\n",
      "Moscow\n",
      "Seoul\n",
      "Barcelona\n",
      "Atlanta\n",
      "Sydney\n",
      "Beijing\n"
     ]
    }
   ],
   "source": [
    "df=pd.read_csv(\"Summer.csv\")\n",
    "length=len(df['City'].unique())\n",
    "print(\"There are \"+str(length)+\" Cites Summer Olympics are held\\n\")\n",
    "print(\"List of Cities are :  \\n\")\n",
    "for i in df['City'].unique():\n",
    "    print(i)"
   ]
  },
  {
   "cell_type": "markdown",
   "id": "7b49076c",
   "metadata": {},
   "source": [
    "### 2. Which sport is having most number of Gold Medals so far? (Top 5)"
   ]
  },
  {
   "cell_type": "code",
   "execution_count": 6,
   "id": "3ffa7e7e",
   "metadata": {},
   "outputs": [],
   "source": [
    "Gold=[]\n",
    "Gold.append(df[df['Medal']  == 'Gold'].index)\n",
    "for i in Gold:\n",
    "    Gold_Medal=df.iloc[i]\n",
    "summer_gold=pd.DataFrame(Gold_Medal,columns=['Sport','Medal'])"
   ]
  },
  {
   "cell_type": "code",
   "execution_count": 7,
   "id": "a1a80af6",
   "metadata": {},
   "outputs": [],
   "source": [
    "medal_gold = []\n",
    "for sport in summer_gold['Sport'].unique():\n",
    "    medal_gold.append([sport , len(summer_gold[summer_gold['Sport']  == sport])])"
   ]
  },
  {
   "cell_type": "code",
   "execution_count": 8,
   "id": "a405c4b2",
   "metadata": {},
   "outputs": [
    {
     "name": "stdout",
     "output_type": "stream",
     "text": [
      "There are 43 Sports Won Gold Medals in Summer Olympics\n",
      "List of Sports Won Gold Medals (Top 5) : \n",
      "\n",
      " Aquatics      1421\n",
      "Athletics     1215\n",
      "Rowing         890\n",
      "Gymnastics     820\n",
      "Fencing        552\n",
      "Name: Sport, dtype: int64\n"
     ]
    }
   ],
   "source": [
    "print(\"There are \"+str(summer_gold['Sport'].nunique())+\" Sports Won Gold Medals in Summer Olympics\")\n",
    "print(\"List of Sports Won Gold Medals (Top 5) : \\n\\n\",summer_gold['Sport'].value_counts().head(5))"
   ]
  },
  {
   "cell_type": "code",
   "execution_count": 9,
   "id": "0f871176",
   "metadata": {},
   "outputs": [
    {
     "data": {
      "text/plain": [
       "<AxesSubplot:xlabel='Sport'>"
      ]
     },
     "execution_count": 9,
     "metadata": {},
     "output_type": "execute_result"
    },
    {
     "data": {
      "image/png": "[encoded data removed]",
      "text/plain": [
       "<Figure size 360x360 with 1 Axes>"
      ]
     },
     "metadata": {
      "needs_background": "light"
     },
     "output_type": "display_data"
    }
   ],
   "source": [
    "Gold_counts=pd.DataFrame(medal_gold,columns = ['Sport','Gold Medals']).sort_values(by='Gold Medals', ascending=False).head(5)\n",
    "Gold_counts.plot(x = 'Sport', y = 'Gold Medals', kind = 'bar', figsize = (5,5),color='gold')"
   ]
  },
  {
   "cell_type": "markdown",
   "id": "c6de9994",
   "metadata": {},
   "source": [
    "### 3. Which sport is having most number of medals so far? (Top 5)"
   ]
  },
  {
   "cell_type": "code",
   "execution_count": 10,
   "id": "c259b5f7",
   "metadata": {},
   "outputs": [],
   "source": [
    "medal_data = []\n",
    "for sport in df['Sport'].unique():\n",
    "    medal_data.append([sport , len(df[df['Sport']  == sport])])"
   ]
  },
  {
   "cell_type": "code",
   "execution_count": 11,
   "id": "92ccf2ff",
   "metadata": {},
   "outputs": [
    {
     "name": "stdout",
     "output_type": "stream",
     "text": [
      "There are 43 Sports are in Summer Olympics\n",
      "List of Sports Won Most Medals (Top 5) : \n",
      "\n",
      " Aquatics      4170\n",
      "Athletics     3638\n",
      "Rowing        2667\n",
      "Gymnastics    2307\n",
      "Fencing       1613\n",
      "Name: Sport, dtype: int64\n"
     ]
    }
   ],
   "source": [
    "print(\"There are \"+str(df['Sport'].nunique())+\" Sports are in Summer Olympics\")\n",
    "print(\"List of Sports Won Most Medals (Top 5) : \\n\\n\",df['Sport'].value_counts().head(5))"
   ]
  },
  {
   "cell_type": "code",
   "execution_count": 12,
   "id": "e3c68409",
   "metadata": {},
   "outputs": [
    {
     "data": {
      "text/plain": [
       "<AxesSubplot:xlabel='Sport'>"
      ]
     },
     "execution_count": 12,
     "metadata": {},
     "output_type": "execute_result"
    },
    {
     "data": {
      "image/png": "[encoded data removed]",
      "text/plain": [
       "<Figure size 360x360 with 1 Axes>"
      ]
     },
     "metadata": {
      "needs_background": "light"
     },
     "output_type": "display_data"
    }
   ],
   "source": [
    "medal_counts=pd.DataFrame(medal_data,columns = ['Sport','Medals']).sort_values(by='Medals', ascending=False).head(5)\n",
    "medal_counts.plot(x = 'Sport', y = 'Medals', kind = 'bar', figsize = (5,5),color='magenta')"
   ]
  },
  {
   "cell_type": "markdown",
   "id": "e8abce70",
   "metadata": {},
   "source": [
    "### 4. Which player has won most number of medals? (Top 5)"
   ]
  },
  {
   "cell_type": "code",
   "execution_count": 13,
   "id": "3cab21ae",
   "metadata": {},
   "outputs": [],
   "source": [
    "won_data = []\n",
    "for Player in df['Athlete'].unique():\n",
    "    won_data.append([Player , len(df[df['Athlete']  == Player])])"
   ]
  },
  {
   "cell_type": "code",
   "execution_count": 14,
   "id": "70a45399",
   "metadata": {},
   "outputs": [
    {
     "name": "stdout",
     "output_type": "stream",
     "text": [
      "There are 22762 Players got Medals in Summer Olympics\n",
      "List of Players  Won most Medals (Top 5) : \n",
      "\n",
      " PHELPS, Michael       22\n",
      "LATYNINA, Larisa      18\n",
      "ANDRIANOV, Nikolay    15\n",
      "ONO, Takashi          13\n",
      "SHAKHLIN, Boris       13\n",
      "Name: Athlete, dtype: int64\n"
     ]
    }
   ],
   "source": [
    "print(\"There are \"+str(df['Athlete'].nunique())+\" Players got Medals in Summer Olympics\")\n",
    "print(\"List of Players  Won most Medals (Top 5) : \\n\\n\",df['Athlete'].value_counts().head(5))"
   ]
  },
  {
   "cell_type": "code",
   "execution_count": 15,
   "id": "6ff6565e",
   "metadata": {},
   "outputs": [
    {
     "data": {
      "text/plain": [
       "<AxesSubplot:xlabel='Player'>"
      ]
     },
     "execution_count": 15,
     "metadata": {},
     "output_type": "execute_result"
    },
    {
     "data": {
      "image/png": "[encoded data removed]",
      "text/plain": [
       "<Figure size 360x360 with 1 Axes>"
      ]
     },
     "metadata": {
      "needs_background": "light"
     },
     "output_type": "display_data"
    }
   ],
   "source": [
    "won_counts=pd.DataFrame(won_data,columns = ['Player','Medals']).sort_values(by='Medals', ascending=False).head(5)\n",
    "won_counts.plot(x = 'Player', y = 'Medals',  kind = 'bar', figsize = (5,5),color='royalblue')"
   ]
  },
  {
   "cell_type": "markdown",
   "id": "270c2583",
   "metadata": {},
   "source": [
    "### 5. Which player has won most number Gold Medals of medals? (Top 5)"
   ]
  },
  {
   "cell_type": "code",
   "execution_count": 16,
   "id": "1707da26",
   "metadata": {},
   "outputs": [],
   "source": [
    "Player=[]\n",
    "Player.append(df[df['Medal']  == 'Gold'].index)\n",
    "for i in Player:\n",
    "    Player_Medal=df.iloc[i]\n",
    "Player_gold=pd.DataFrame(Player_Medal,columns=['Athlete','Medal'])"
   ]
  },
  {
   "cell_type": "code",
   "execution_count": 17,
   "id": "50be53cb",
   "metadata": {},
   "outputs": [],
   "source": [
    "Player_Gold = []\n",
    "for play in Player_gold['Athlete'].unique():\n",
    "    Player_Gold.append([play , len(Player_gold[Player_gold['Athlete']  == play])])"
   ]
  },
  {
   "cell_type": "code",
   "execution_count": 18,
   "id": "0a6bda55",
   "metadata": {},
   "outputs": [
    {
     "name": "stdout",
     "output_type": "stream",
     "text": [
      "There are 8287 Athlete Won Gold Medals in Summer Olympics\n",
      "List of Players Won Gold Medals (Top 5) : \n",
      "\n",
      " PHELPS, Michael     18\n",
      "NURMI, Paavo         9\n",
      "SPITZ, Mark          9\n",
      "LATYNINA, Larisa     9\n",
      "LEWIS, Carl          9\n",
      "Name: Athlete, dtype: int64\n"
     ]
    }
   ],
   "source": [
    "print(\"There are \"+str(Player_gold['Athlete'].nunique())+\" Athlete Won Gold Medals in Summer Olympics\")\n",
    "print(\"List of Players Won Gold Medals (Top 5) : \\n\\n\",Player_gold['Athlete'].value_counts().head(5))"
   ]
  },
  {
   "cell_type": "code",
   "execution_count": 19,
   "id": "91bc2dff",
   "metadata": {},
   "outputs": [
    {
     "data": {
      "text/plain": [
       "<AxesSubplot:xlabel='Athlete'>"
      ]
     },
     "execution_count": 19,
     "metadata": {},
     "output_type": "execute_result"
    },
    {
     "data": {
      "image/png": "[encoded data removed]",
      "text/plain": [
       "<Figure size 360x360 with 1 Axes>"
      ]
     },
     "metadata": {
      "needs_background": "light"
     },
     "output_type": "display_data"
    }
   ],
   "source": [
    "Gold_player=pd.DataFrame(Player_Gold,columns = ['Athlete','Gold Medals']).sort_values(by='Gold Medals', ascending=False).head(5)\n",
    "Gold_player.plot(x = 'Athlete', y = 'Gold Medals', kind = 'bar', figsize = (5,5),color='chocolate')"
   ]
  },
  {
   "cell_type": "markdown",
   "id": "b1fdcc49",
   "metadata": {},
   "source": [
    "### 6. In which year India won first Gold Medal in Summer Olympics?"
   ]
  },
  {
   "cell_type": "code",
   "execution_count": 20,
   "id": "9fa48bf7",
   "metadata": {},
   "outputs": [],
   "source": [
    "India=[]\n",
    "India.append(df[df['Country']  == 'IND'].index)\n",
    "for i in India:\n",
    "    INDIA=df.iloc[i]\n",
    "India_gold=pd.DataFrame(INDIA,columns=['Country','Year','Medal']).sort_values(by='Year', ascending=True).head(10)"
   ]
  },
  {
   "cell_type": "code",
   "execution_count": 21,
   "id": "a48b2c85",
   "metadata": {},
   "outputs": [],
   "source": [
    "Ind=[]\n",
    "Ind.append(India_gold[India_gold['Medal']  == 'Gold'].index)\n",
    "for i in Ind:\n",
    "    IND=df.iloc[i]"
   ]
  },
  {
   "cell_type": "code",
   "execution_count": 22,
   "id": "5a144c3a",
   "metadata": {},
   "outputs": [
    {
     "data": {
      "text/plain": [
       "Year                          1928\n",
       "City                     Amsterdam\n",
       "Sport                       Hockey\n",
       "Discipline                  Hockey\n",
       "Athlete       YUSUF, Sayed Mohamed\n",
       "Country                        IND\n",
       "Gender                         Men\n",
       "Event                       Hockey\n",
       "Medal                         Gold\n",
       "Name: 5526, dtype: object"
      ]
     },
     "execution_count": 22,
     "metadata": {},
     "output_type": "execute_result"
    }
   ],
   "source": [
    "IND.iloc[0]"
   ]
  },
  {
   "cell_type": "code",
   "execution_count": 23,
   "id": "b7a765ef",
   "metadata": {},
   "outputs": [
    {
     "name": "stdout",
     "output_type": "stream",
     "text": [
      "India won first Gold Medal in Summer Olympics in  1928\n"
     ]
    }
   ],
   "source": [
    "print(\"India won first Gold Medal in Summer Olympics in \", IND.iloc[0]['Year'])"
   ]
  },
  {
   "cell_type": "markdown",
   "id": "8d843c59",
   "metadata": {},
   "source": [
    "### 7. Which event is most popular in terms on number of players? (Top 5)"
   ]
  },
  {
   "cell_type": "code",
   "execution_count": 24,
   "id": "a12990f4",
   "metadata": {},
   "outputs": [],
   "source": [
    "medal_data = []\n",
    "# CSV file based on players\n",
    "for sport in df['Event'].unique():\n",
    "    medal_data.append([sport , len(df[df['Event']  == sport])])"
   ]
  },
  {
   "cell_type": "code",
   "execution_count": 25,
   "id": "c328ba2d",
   "metadata": {},
   "outputs": [
    {
     "name": "stdout",
     "output_type": "stream",
     "text": [
      "There are 666 Events are in Summer Olympics\n",
      "List of Event With Player's Count (Top 5) : \n",
      "\n",
      " Football            1497\n",
      "Hockey              1422\n",
      "Team Competition    1147\n",
      "Basketball          1012\n",
      "Handball             973\n",
      "Name: Event, dtype: int64\n"
     ]
    }
   ],
   "source": [
    "print(\"There are \"+str(df['Event'].nunique())+\" Events are in Summer Olympics\")\n",
    "print(\"List of Event With Player's Count (Top 5) : \\n\\n\",df['Event'].value_counts().head(5))"
   ]
  },
  {
   "cell_type": "code",
   "execution_count": 26,
   "id": "e56de3f2",
   "metadata": {},
   "outputs": [
    {
     "data": {
      "text/plain": [
       "<AxesSubplot:xlabel='Event'>"
      ]
     },
     "execution_count": 26,
     "metadata": {},
     "output_type": "execute_result"
    },
    {
     "data": {
      "image/png": "[encoded data removed]",
      "text/plain": [
       "<Figure size 360x360 with 1 Axes>"
      ]
     },
     "metadata": {
      "needs_background": "light"
     },
     "output_type": "display_data"
    }
   ],
   "source": [
    "medal_counts=pd.DataFrame(medal_data,columns = ['Event','Player']).sort_values(by='Player', ascending=False).head(5)\n",
    "medal_counts.plot(x = 'Event', y = 'Player', kind = 'bar', figsize = (5,5),color='lime')"
   ]
  },
  {
   "cell_type": "markdown",
   "id": "401171ef",
   "metadata": {},
   "source": [
    "### 8. Which sport is having most female Gold Medalists? (Top 5)"
   ]
  },
  {
   "cell_type": "code",
   "execution_count": 27,
   "id": "f7dcbb44",
   "metadata": {},
   "outputs": [],
   "source": [
    "Female_Player=[]\n",
    "Female_Player.append(Player_Medal[Player_Medal['Gender']  == 'Women'].index)\n",
    "for i in Female_Player:\n",
    "    c=Player_Medal.loc[i]\n",
    "Players=pd.DataFrame(c,columns=['Sport','Gender','Athlete'])"
   ]
  },
  {
   "cell_type": "code",
   "execution_count": 28,
   "id": "8cfadbad",
   "metadata": {},
   "outputs": [],
   "source": [
    "gold_data = []\n",
    "for sport in Players['Sport'].unique():\n",
    "    gold_data.append([sport , len(Players[Players['Sport']  == sport])])"
   ]
  },
  {
   "cell_type": "code",
   "execution_count": 29,
   "id": "5f7448c3",
   "metadata": {},
   "outputs": [
    {
     "name": "stdout",
     "output_type": "stream",
     "text": [
      "There are 30 Sports got female Gold Medalists in Summer Olympics\n",
      "List of Sports Won female Gold Medalists (Top 5) : \n",
      "\n",
      " Aquatics      589\n",
      "Athletics     389\n",
      "Gymnastics    268\n",
      "Rowing        217\n",
      "Volleyball    166\n",
      "Name: Sport, dtype: int64\n"
     ]
    }
   ],
   "source": [
    "print(\"There are \"+str(Players['Sport'].nunique())+\" Sports got female Gold Medalists in Summer Olympics\")\n",
    "print(\"List of Sports Won female Gold Medalists (Top 5) : \\n\\n\",Players['Sport'].value_counts().head(5))"
   ]
  },
  {
   "cell_type": "code",
   "execution_count": 30,
   "id": "ccb4135d",
   "metadata": {},
   "outputs": [
    {
     "data": {
      "text/plain": [
       "<AxesSubplot:xlabel='Sport'>"
      ]
     },
     "execution_count": 30,
     "metadata": {},
     "output_type": "execute_result"
    },
    {
     "data": {
      "image/png": "[encoded data removed]",
      "text/plain": [
       "<Figure size 360x360 with 1 Axes>"
      ]
     },
     "metadata": {
      "needs_background": "light"
     },
     "output_type": "display_data"
    }
   ],
   "source": [
    "counts=pd.DataFrame(gold_data,columns = ['Sport','Gold']).sort_values(by='Gold', ascending=False).head(5)\n",
    "counts.plot(x = 'Sport', y = 'Gold', kind = 'bar', figsize = (5,5),color='blue')"
   ]
  },
  {
   "cell_type": "markdown",
   "id": "d5ab428b",
   "metadata": {},
   "source": [
    "## ------------------------------------------------------   END --------------------------------------------------------------"
   ]
  }
 ],
 "metadata": {
  "kernelspec": {
   "display_name": "Python 3",
   "language": "python",
   "name": "python3"
  },
  "language_info": {
   "codemirror_mode": {
    "name": "ipython",
    "version": 3
   },
   "file_extension": ".py",
   "mimetype": "text/x-python",
   "name": "python",
   "nbconvert_exporter": "python",
   "pygments_lexer": "ipython3",
   "version": "3.8.8"
  }
 },
 "nbformat": 4,
 "nbformat_minor": 5
}
